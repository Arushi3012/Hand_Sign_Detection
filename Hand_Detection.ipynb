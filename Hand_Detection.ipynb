{
  "cells": [
    {
      "cell_type": "markdown",
      "id": "acf70b3f-3d24-44d1-af4b-2b8e534c1db5",
      "metadata": {
        "id": "acf70b3f-3d24-44d1-af4b-2b8e534c1db5"
      },
      "source": [
        "FIRST STEP :"
      ]
    },
    {
      "cell_type": "code",
      "execution_count": 1,
      "id": "455905c5-103c-4bb2-b143-e029032f5299",
      "metadata": {
        "colab": {
          "base_uri": "https://localhost:8080/"
        },
        "id": "455905c5-103c-4bb2-b143-e029032f5299",
        "outputId": "775bc62e-28da-46f4-e94d-b23f57936c53"
      },
      "outputs": [
        {
          "output_type": "stream",
          "name": "stdout",
          "text": [
            "Collecting mediapipe\n",
            "  Downloading mediapipe-0.10.21-cp311-cp311-manylinux_2_28_x86_64.whl.metadata (9.7 kB)\n",
            "Requirement already satisfied: absl-py in /usr/local/lib/python3.11/dist-packages (from mediapipe) (1.4.0)\n",
            "Requirement already satisfied: attrs>=19.1.0 in /usr/local/lib/python3.11/dist-packages (from mediapipe) (25.1.0)\n",
            "Requirement already satisfied: flatbuffers>=2.0 in /usr/local/lib/python3.11/dist-packages (from mediapipe) (25.2.10)\n",
            "Requirement already satisfied: jax in /usr/local/lib/python3.11/dist-packages (from mediapipe) (0.4.33)\n",
            "Requirement already satisfied: jaxlib in /usr/local/lib/python3.11/dist-packages (from mediapipe) (0.4.33)\n",
            "Requirement already satisfied: matplotlib in /usr/local/lib/python3.11/dist-packages (from mediapipe) (3.10.0)\n",
            "Requirement already satisfied: numpy<2 in /usr/local/lib/python3.11/dist-packages (from mediapipe) (1.26.4)\n",
            "Requirement already satisfied: opencv-contrib-python in /usr/local/lib/python3.11/dist-packages (from mediapipe) (4.11.0.86)\n",
            "Requirement already satisfied: protobuf<5,>=4.25.3 in /usr/local/lib/python3.11/dist-packages (from mediapipe) (4.25.6)\n",
            "Collecting sounddevice>=0.4.4 (from mediapipe)\n",
            "  Downloading sounddevice-0.5.1-py3-none-any.whl.metadata (1.4 kB)\n",
            "Requirement already satisfied: sentencepiece in /usr/local/lib/python3.11/dist-packages (from mediapipe) (0.2.0)\n",
            "Requirement already satisfied: CFFI>=1.0 in /usr/local/lib/python3.11/dist-packages (from sounddevice>=0.4.4->mediapipe) (1.17.1)\n",
            "Requirement already satisfied: ml-dtypes>=0.2.0 in /usr/local/lib/python3.11/dist-packages (from jax->mediapipe) (0.4.1)\n",
            "Requirement already satisfied: opt-einsum in /usr/local/lib/python3.11/dist-packages (from jax->mediapipe) (3.4.0)\n",
            "Requirement already satisfied: scipy>=1.10 in /usr/local/lib/python3.11/dist-packages (from jax->mediapipe) (1.13.1)\n",
            "Requirement already satisfied: contourpy>=1.0.1 in /usr/local/lib/python3.11/dist-packages (from matplotlib->mediapipe) (1.3.1)\n",
            "Requirement already satisfied: cycler>=0.10 in /usr/local/lib/python3.11/dist-packages (from matplotlib->mediapipe) (0.12.1)\n",
            "Requirement already satisfied: fonttools>=4.22.0 in /usr/local/lib/python3.11/dist-packages (from matplotlib->mediapipe) (4.56.0)\n",
            "Requirement already satisfied: kiwisolver>=1.3.1 in /usr/local/lib/python3.11/dist-packages (from matplotlib->mediapipe) (1.4.8)\n",
            "Requirement already satisfied: packaging>=20.0 in /usr/local/lib/python3.11/dist-packages (from matplotlib->mediapipe) (24.2)\n",
            "Requirement already satisfied: pillow>=8 in /usr/local/lib/python3.11/dist-packages (from matplotlib->mediapipe) (11.1.0)\n",
            "Requirement already satisfied: pyparsing>=2.3.1 in /usr/local/lib/python3.11/dist-packages (from matplotlib->mediapipe) (3.2.1)\n",
            "Requirement already satisfied: python-dateutil>=2.7 in /usr/local/lib/python3.11/dist-packages (from matplotlib->mediapipe) (2.8.2)\n",
            "Requirement already satisfied: pycparser in /usr/local/lib/python3.11/dist-packages (from CFFI>=1.0->sounddevice>=0.4.4->mediapipe) (2.22)\n",
            "Requirement already satisfied: six>=1.5 in /usr/local/lib/python3.11/dist-packages (from python-dateutil>=2.7->matplotlib->mediapipe) (1.17.0)\n",
            "Downloading mediapipe-0.10.21-cp311-cp311-manylinux_2_28_x86_64.whl (35.6 MB)\n",
            "\u001b[2K   \u001b[90m━━━━━━━━━━━━━━━━━━━━━━━━━━━━━━━━━━━━━━━━\u001b[0m \u001b[32m35.6/35.6 MB\u001b[0m \u001b[31m20.1 MB/s\u001b[0m eta \u001b[36m0:00:00\u001b[0m\n",
            "\u001b[?25hDownloading sounddevice-0.5.1-py3-none-any.whl (32 kB)\n",
            "Installing collected packages: sounddevice, mediapipe\n",
            "Successfully installed mediapipe-0.10.21 sounddevice-0.5.1\n"
          ]
        }
      ],
      "source": [
        "! pip install mediapipe"
      ]
    },
    {
      "cell_type": "code",
      "execution_count": null,
      "id": "628b8621",
      "metadata": {
        "id": "628b8621"
      },
      "outputs": [],
      "source": [
        "new_var = pip install tensorflow==2.4.1 tensorflow-gpu==2.4.1 opencv-python mediapipe  matplotlib\n",
        "new_var"
      ]
    },
    {
      "cell_type": "code",
      "execution_count": null,
      "id": "9c8d825d",
      "metadata": {
        "colab": {
          "base_uri": "https://localhost:8080/"
        },
        "id": "9c8d825d",
        "outputId": "590f3ac5-f148-4a59-a775-1918134f5e37"
      },
      "outputs": [
        {
          "output_type": "stream",
          "name": "stdout",
          "text": [
            "Requirement already satisfied: scikit-learn in /usr/local/lib/python3.10/dist-packages (1.5.2)\n",
            "Requirement already satisfied: numpy>=1.19.5 in /usr/local/lib/python3.10/dist-packages (from scikit-learn) (1.26.4)\n",
            "Requirement already satisfied: scipy>=1.6.0 in /usr/local/lib/python3.10/dist-packages (from scikit-learn) (1.13.1)\n",
            "Requirement already satisfied: joblib>=1.2.0 in /usr/local/lib/python3.10/dist-packages (from scikit-learn) (1.4.2)\n",
            "Requirement already satisfied: threadpoolctl>=3.1.0 in /usr/local/lib/python3.10/dist-packages (from scikit-learn) (3.5.0)\n"
          ]
        }
      ],
      "source": [
        "pip install scikit-learn"
      ]
    },
    {
      "cell_type": "code",
      "execution_count": null,
      "id": "309c928d",
      "metadata": {
        "id": "309c928d"
      },
      "outputs": [],
      "source": [
        "import cv2\n",
        "import numpy as np\n",
        "import os\n",
        "from matplotlib import pyplot as plt\n",
        "import time\n",
        "import mediapipe as mp"
      ]
    },
    {
      "cell_type": "markdown",
      "id": "77134914-cbca-42d6-8d34-6198cf0e4162",
      "metadata": {
        "id": "77134914-cbca-42d6-8d34-6198cf0e4162"
      },
      "source": [
        "SECOND STEP :"
      ]
    },
    {
      "cell_type": "code",
      "execution_count": null,
      "id": "44c4fe9c",
      "metadata": {
        "id": "44c4fe9c"
      },
      "outputs": [],
      "source": [
        "mp_holistic = mp.solutions.holistic # this is our model\n",
        "mp_drawing = mp.solutions.drawing_utils # In this we will be drawing actions"
      ]
    },
    {
      "cell_type": "code",
      "execution_count": null,
      "id": "64c2565d",
      "metadata": {
        "id": "64c2565d"
      },
      "outputs": [],
      "source": [
        "def mediapipe_detection(image, model):\n",
        "    image = cv2.cvtColor(image, cv2.COLOR_BGR2RGB)  # COLOR CONVERSION\n",
        "    image.flags.writeable = False                   # Image is no longer writeable\n",
        "    results = model.process(image)                  # Make prediction\n",
        "    image.flags.writeable = True                    # Image is now writeable\n",
        "    image = cv2. cvtColor(image, cv2.COLOR_RGB2BGR) # COLOR CONVERSION\n",
        "    return image, results"
      ]
    },
    {
      "cell_type": "code",
      "execution_count": null,
      "id": "35c59629",
      "metadata": {
        "scrolled": true,
        "id": "35c59629"
      },
      "outputs": [],
      "source": [
        "cv2.cvtColor??"
      ]
    },
    {
      "cell_type": "code",
      "execution_count": null,
      "id": "fcae0ab0",
      "metadata": {
        "id": "fcae0ab0"
      },
      "outputs": [],
      "source": [
        "def draw_landmarks(image, results):\n",
        "    mp_drawing.draw_landmarks(image, results.face_landmarks, mp_holistic.FACEMESH_TESSELATION)\n",
        "    mp_drawing.draw_landmarks(image, results.pose_landmarks, mp_holistic.POSE_CONNECTIONS)\n",
        "    mp_drawing.draw_landmarks(image, results.left_hand_landmarks, mp_holistic.HAND_CONNECTIONS)\n",
        "    mp_drawing.draw_landmarks(image, results.right_hand_landmarks, mp_holistic.HAND_CONNECTIONS)"
      ]
    },
    {
      "cell_type": "code",
      "execution_count": null,
      "id": "58a42355",
      "metadata": {
        "scrolled": true,
        "id": "58a42355"
      },
      "outputs": [],
      "source": [
        "mp_drawing.draw_landmarks??"
      ]
    },
    {
      "cell_type": "code",
      "execution_count": null,
      "id": "771ef407",
      "metadata": {
        "colab": {
          "base_uri": "https://localhost:8080/"
        },
        "id": "771ef407",
        "outputId": "ba229386-a927-4525-ab1d-cd1a5b7dbec8"
      },
      "outputs": [
        {
          "output_type": "execute_result",
          "data": {
            "text/plain": [
              "frozenset({(0, 1),\n",
              "           (0, 4),\n",
              "           (1, 2),\n",
              "           (2, 3),\n",
              "           (3, 7),\n",
              "           (4, 5),\n",
              "           (5, 6),\n",
              "           (6, 8),\n",
              "           (9, 10),\n",
              "           (11, 12),\n",
              "           (11, 13),\n",
              "           (11, 23),\n",
              "           (12, 14),\n",
              "           (12, 24),\n",
              "           (13, 15),\n",
              "           (14, 16),\n",
              "           (15, 17),\n",
              "           (15, 19),\n",
              "           (15, 21),\n",
              "           (16, 18),\n",
              "           (16, 20),\n",
              "           (16, 22),\n",
              "           (17, 19),\n",
              "           (18, 20),\n",
              "           (23, 24),\n",
              "           (23, 25),\n",
              "           (24, 26),\n",
              "           (25, 27),\n",
              "           (26, 28),\n",
              "           (27, 29),\n",
              "           (27, 31),\n",
              "           (28, 30),\n",
              "           (28, 32),\n",
              "           (29, 31),\n",
              "           (30, 32)})"
            ]
          },
          "metadata": {},
          "execution_count": 10
        }
      ],
      "source": [
        "mp_holistic.POSE_CONNECTIONS"
      ]
    },
    {
      "cell_type": "code",
      "execution_count": null,
      "id": "358cbc72",
      "metadata": {
        "id": "358cbc72"
      },
      "outputs": [],
      "source": [
        "cap = cv2.VideoCapture(0)\n",
        "# Set mediapipe model\n",
        "with mp_holistic.Holistic(min_detection_confidence=0.5, min_tracking_confidence=0.5) as holistic:\n",
        "    while cap.isOpened():\n",
        "\n",
        "        # Read Feed\n",
        "        ret, frame = cap.read()\n",
        "\n",
        "        # Make detections\n",
        "        image, results = mediapipe_detection(frame, holistic)\n",
        "        print(results)\n",
        "\n",
        "        # Show to the screen\n",
        "        cv2.imshow('OpenCV Feed', frame)\n",
        "        if cv2.waitKey(10) & 0xFF == ord('c'):\n",
        "            break\n",
        "\n",
        "cap.release()\n",
        "cv2.destroyAllWindows()"
      ]
    },
    {
      "cell_type": "code",
      "execution_count": null,
      "id": "55c78d26",
      "metadata": {
        "colab": {
          "base_uri": "https://localhost:8080/",
          "height": 141
        },
        "id": "55c78d26",
        "outputId": "ec2a0fa2-3664-49bb-d18e-38d33b804ea1"
      },
      "outputs": [
        {
          "output_type": "error",
          "ename": "NameError",
          "evalue": "name 'results' is not defined",
          "traceback": [
            "\u001b[0;31m---------------------------------------------------------------------------\u001b[0m",
            "\u001b[0;31mNameError\u001b[0m                                 Traceback (most recent call last)",
            "\u001b[0;32m<ipython-input-12-100f62972f2f>\u001b[0m in \u001b[0;36m<cell line: 1>\u001b[0;34m()\u001b[0m\n\u001b[0;32m----> 1\u001b[0;31m \u001b[0mresults\u001b[0m\u001b[0;34m\u001b[0m\u001b[0;34m\u001b[0m\u001b[0m\n\u001b[0m",
            "\u001b[0;31mNameError\u001b[0m: name 'results' is not defined"
          ]
        }
      ],
      "source": [
        "results"
      ]
    },
    {
      "cell_type": "code",
      "execution_count": null,
      "id": "3c55711c",
      "metadata": {
        "scrolled": true,
        "id": "3c55711c"
      },
      "outputs": [],
      "source": [
        "results.face_landmarks"
      ]
    },
    {
      "cell_type": "code",
      "execution_count": null,
      "id": "830df668",
      "metadata": {
        "id": "830df668"
      },
      "outputs": [],
      "source": [
        "len(results.face_landmarks.landmark)"
      ]
    },
    {
      "cell_type": "code",
      "execution_count": null,
      "id": "df05d804",
      "metadata": {
        "id": "df05d804"
      },
      "outputs": [],
      "source": [
        "len(results.right_hand_landmarks.landmark)"
      ]
    },
    {
      "cell_type": "code",
      "execution_count": null,
      "id": "e72ee894",
      "metadata": {
        "id": "e72ee894"
      },
      "outputs": [],
      "source": [
        "frame"
      ]
    },
    {
      "cell_type": "code",
      "execution_count": null,
      "id": "f11f5d90",
      "metadata": {
        "id": "f11f5d90"
      },
      "outputs": [],
      "source": [
        "plt.imshow(frame)"
      ]
    },
    {
      "cell_type": "code",
      "execution_count": null,
      "id": "2e646a66",
      "metadata": {
        "id": "2e646a66"
      },
      "outputs": [],
      "source": [
        "plt.imshow(cv2.cvtColor(frame, cv2.COLOR_BGR2RGB))"
      ]
    },
    {
      "cell_type": "code",
      "execution_count": null,
      "id": "f5c3ceb5",
      "metadata": {
        "id": "f5c3ceb5"
      },
      "outputs": [],
      "source": [
        "results"
      ]
    },
    {
      "cell_type": "code",
      "execution_count": null,
      "id": "43fecb51",
      "metadata": {
        "id": "43fecb51"
      },
      "outputs": [],
      "source": [
        "draw_landmarks(frame, results)"
      ]
    },
    {
      "cell_type": "code",
      "execution_count": null,
      "id": "dcfe307b",
      "metadata": {
        "id": "dcfe307b"
      },
      "outputs": [],
      "source": [
        "plt.imshow(cv2.cvtColor(frame, cv2.COLOR_BGR2RGB))"
      ]
    },
    {
      "cell_type": "code",
      "execution_count": null,
      "id": "5d20f88c-3cfa-4a65-86ff-b170998197ce",
      "metadata": {
        "id": "5d20f88c-3cfa-4a65-86ff-b170998197ce"
      },
      "outputs": [],
      "source": [
        "def draw_styled_landmarks(image, results):\n",
        "    # Draw face connections\n",
        "    mp_drawing.draw_landmarks(image, results.face_landmarks, mp_holistic.FACEMESH_TESSELATION,\n",
        "                             mp_drawing.DrawingSpec(color=(80,110,10), thickness=1, circle_radius=1),\n",
        "                             mp_drawing.DrawingSpec(color=(80,256,121), thickness=1, circle_radius=1)\n",
        "                             )\n",
        "    # Draw pose connections\n",
        "    mp_drawing.draw_landmarks(image, results.pose_landmarks, mp_holistic.POSE_CONNECTIONS,\n",
        "                             mp_drawing.DrawingSpec(color=(80,22,10), thickness=2, circle_radius=4),\n",
        "                             mp_drawing.DrawingSpec(color=(80,44,121), thickness=2, circle_radius=2)\n",
        "                             )\n",
        "    # Draw left hand connections\n",
        "    mp_drawing.draw_landmarks(image, results.left_hand_landmarks, mp_holistic.HAND_CONNECTIONS,\n",
        "                             mp_drawing.DrawingSpec(color=(121,22,76), thickness=2, circle_radius=4),\n",
        "                             mp_drawing.DrawingSpec(color=(121,44,250), thickness=2, circle_radius=2)\n",
        "                             )\n",
        "    # Draw right hand connections\n",
        "    mp_drawing.draw_landmarks(image, results.right_hand_landmarks, mp_holistic.HAND_CONNECTIONS,\n",
        "                             mp_drawing.DrawingSpec(color=(245,117,66), thickness=2, circle_radius=4),\n",
        "                             mp_drawing.DrawingSpec(color=(245,66,230), thickness=2, circle_radius=2)\n",
        "                             )"
      ]
    },
    {
      "cell_type": "code",
      "execution_count": null,
      "id": "146b073e",
      "metadata": {
        "scrolled": true,
        "id": "146b073e"
      },
      "outputs": [],
      "source": [
        "cap = cv2.VideoCapture(0)\n",
        "# Set mediapipe model\n",
        "with mp_holistic.Holistic(min_detection_confidence=0.5, min_tracking_confidence=0.5) as holistic:\n",
        "    while cap.isOpened():\n",
        "\n",
        "        # Read Feed\n",
        "        ret, frame = cap.read()\n",
        "\n",
        "        # Make detections\n",
        "        image, results = mediapipe_detection(frame, holistic)\n",
        "        print(results)\n",
        "\n",
        "        # Draw landmarks\n",
        "        draw_styled_landmarks(image, results)\n",
        "\n",
        "        # Show to the screen\n",
        "        cv2.imshow('OpenCV Feed', image)\n",
        "        if cv2.waitKey(10) & 0xFF == ord('-'):\n",
        "            break\n",
        "\n",
        "cap.release()\n",
        "cv2.destroyAllWindows()"
      ]
    },
    {
      "cell_type": "code",
      "execution_count": null,
      "id": "95821875-1e80-45ad-9417-b5303182c56e",
      "metadata": {
        "id": "95821875-1e80-45ad-9417-b5303182c56e"
      },
      "outputs": [],
      "source": [
        "results"
      ]
    },
    {
      "cell_type": "code",
      "execution_count": null,
      "id": "32928db7-2381-487c-9514-df3f0639b63a",
      "metadata": {
        "id": "32928db7-2381-487c-9514-df3f0639b63a"
      },
      "outputs": [],
      "source": [
        "draw_styled_landmarks(frame, results)"
      ]
    },
    {
      "cell_type": "code",
      "execution_count": null,
      "id": "9d1fe400-c15a-4cb1-b6bb-8186a4735aa5",
      "metadata": {
        "id": "9d1fe400-c15a-4cb1-b6bb-8186a4735aa5"
      },
      "outputs": [],
      "source": [
        "plt.imshow(cv2.cvtColor(frame, cv2.COLOR_BGR2RGB))"
      ]
    },
    {
      "cell_type": "markdown",
      "id": "4939c128-9497-419b-84df-dd3537f4781d",
      "metadata": {
        "id": "4939c128-9497-419b-84df-dd3537f4781d"
      },
      "source": [
        "THIRD STEP :\n"
      ]
    },
    {
      "cell_type": "code",
      "execution_count": null,
      "id": "8f5bd377-b687-4815-aae5-afac40613f45",
      "metadata": {
        "id": "8f5bd377-b687-4815-aae5-afac40613f45"
      },
      "outputs": [],
      "source": [
        "results"
      ]
    },
    {
      "cell_type": "code",
      "execution_count": null,
      "id": "c80d2ac0-a6a0-4f68-b66d-a81fc65314b0",
      "metadata": {
        "id": "c80d2ac0-a6a0-4f68-b66d-a81fc65314b0"
      },
      "outputs": [],
      "source": [
        "results.left_hand_landmarks"
      ]
    },
    {
      "cell_type": "code",
      "execution_count": null,
      "id": "9caeabe3-e5a7-48fa-9d7a-f645e72accf5",
      "metadata": {
        "scrolled": true,
        "id": "9caeabe3-e5a7-48fa-9d7a-f645e72accf5"
      },
      "outputs": [],
      "source": [
        "results.face_landmarks"
      ]
    },
    {
      "cell_type": "code",
      "execution_count": null,
      "id": "f60eac44-25c9-4c52-8b6a-9587d87f431f",
      "metadata": {
        "scrolled": true,
        "id": "f60eac44-25c9-4c52-8b6a-9587d87f431f"
      },
      "outputs": [],
      "source": [
        "results.pose_landmarks"
      ]
    },
    {
      "cell_type": "code",
      "execution_count": null,
      "id": "60b71222-d93e-4bff-84eb-99950082c39c",
      "metadata": {
        "id": "60b71222-d93e-4bff-84eb-99950082c39c"
      },
      "outputs": [],
      "source": [
        "for res in results.pose_landmarks.landmark:\n",
        "    test=np.array([res.x, res.y, res.z, res.visibility])"
      ]
    },
    {
      "cell_type": "code",
      "execution_count": null,
      "id": "6d75a4f0-bcbe-4ce8-b5bc-78f4bd9997f1",
      "metadata": {
        "id": "6d75a4f0-bcbe-4ce8-b5bc-78f4bd9997f1"
      },
      "outputs": [],
      "source": [
        "test"
      ]
    },
    {
      "cell_type": "code",
      "execution_count": null,
      "id": "b175fab5-e435-43e1-8da6-54e310d4bd78",
      "metadata": {
        "id": "b175fab5-e435-43e1-8da6-54e310d4bd78"
      },
      "outputs": [],
      "source": [
        "pose = []\n",
        "for res in results.pose_landmarks.landmark:\n",
        "    test=np.array([res.x, res.y, res.z, res.visibility])\n",
        "    pose.append(test)"
      ]
    },
    {
      "cell_type": "code",
      "execution_count": null,
      "id": "e470f0b4-2736-44d9-a740-fb4097501bea",
      "metadata": {
        "id": "e470f0b4-2736-44d9-a740-fb4097501bea"
      },
      "outputs": [],
      "source": [
        "pose"
      ]
    },
    {
      "cell_type": "code",
      "execution_count": null,
      "id": "a8e4ad77-e63f-484d-b507-558e3998e308",
      "metadata": {
        "id": "a8e4ad77-e63f-484d-b507-558e3998e308"
      },
      "outputs": [],
      "source": [
        "len(pose)"
      ]
    },
    {
      "cell_type": "code",
      "execution_count": null,
      "id": "ef33c101-96aa-4658-808d-11d16a4c3ad9",
      "metadata": {
        "id": "ef33c101-96aa-4658-808d-11d16a4c3ad9"
      },
      "outputs": [],
      "source": [
        "pose = np.array([[res.x, res.y, res.z, res.visibility] for res in results.pose_landmarks.landmark]).flatten()"
      ]
    },
    {
      "cell_type": "code",
      "execution_count": null,
      "id": "72e047ae-6eb3-47f8-a735-5cb564a4b8c0",
      "metadata": {
        "id": "72e047ae-6eb3-47f8-a735-5cb564a4b8c0"
      },
      "outputs": [],
      "source": [
        "pose"
      ]
    },
    {
      "cell_type": "code",
      "execution_count": null,
      "id": "b31ee566-e2f8-4035-87b0-51cf514c2e8e",
      "metadata": {
        "id": "b31ee566-e2f8-4035-87b0-51cf514c2e8e"
      },
      "outputs": [],
      "source": [
        "lh = np.array([[res.x, res.y, res.z] for res in results.left_hand_landmarks.landmark]).flatten()"
      ]
    },
    {
      "cell_type": "code",
      "execution_count": null,
      "id": "1197f2df-93f1-448f-aa64-23d2abbbd0a9",
      "metadata": {
        "id": "1197f2df-93f1-448f-aa64-23d2abbbd0a9"
      },
      "outputs": [],
      "source": [
        "lh"
      ]
    },
    {
      "cell_type": "code",
      "execution_count": null,
      "id": "34f233d4-d1d4-4a32-8a03-04ba5d900ae0",
      "metadata": {
        "id": "34f233d4-d1d4-4a32-8a03-04ba5d900ae0"
      },
      "outputs": [],
      "source": [
        "np.zeros(21*3)"
      ]
    },
    {
      "cell_type": "code",
      "execution_count": null,
      "id": "92771c63-abc9-4aca-a4a6-11bcaacfb94c",
      "metadata": {
        "id": "92771c63-abc9-4aca-a4a6-11bcaacfb94c"
      },
      "outputs": [],
      "source": [
        "pose = np.array([[res.x, res.y, res.z, res.visibility] for res in results.pose_landmarks.landmark]).flatten() if results.pose_landmarks else np.zeros(132)\n",
        "face = np.array([[res.x, res.y, res.z] for res in results.face_landmarks.landmark]).flatten() if results.face_landmarks else np.zeros(1404)\n",
        "lh = np.array([[res.x, res.y, res.z] for res in results.left_hand_landmarks.landmark]).flatten() if results.left_hand_landmarks else np.zeros(21*3)\n",
        "rh = np.array([[res.x, res.y, res.z] for res in results.right_hand_landmarks.landmark]).flatten() if results.right_hand_landmarks else np.zeros(21*3)"
      ]
    },
    {
      "cell_type": "code",
      "execution_count": null,
      "id": "46191b5a-ff68-4e70-b69a-00951b32bdd5",
      "metadata": {
        "id": "46191b5a-ff68-4e70-b69a-00951b32bdd5"
      },
      "outputs": [],
      "source": [
        "def extract_keypoints(results):\n",
        "    pose = np.array([[res.x, res.y, res.z, res.visibility] for res in results.pose_landmarks.landmark]).flatten() if results.pose_landmarks else np.zeros(33*4)\n",
        "    face = np.array([[res.x, res.y, res.z] for res in results.face_landmarks.landmark]).flatten() if results.face_landmarks else np.zeros(468*3)\n",
        "    lh = np.array([[res.x, res.y, res.z] for res in results.left_hand_landmarks.landmark]).flatten() if results.left_hand_landmarks else np.zeros(21*3)\n",
        "    rh = np.array([[res.x, res.y, res.z] for res in results.right_hand_landmarks.landmark]).flatten() if results.right_hand_landmarks else np.zeros(21*3)\n",
        "    return np.concatenate([pose, face, lh, rh])"
      ]
    },
    {
      "cell_type": "code",
      "execution_count": null,
      "id": "b67a5e87-ac1a-4c29-83fa-bc022534819d",
      "metadata": {
        "id": "b67a5e87-ac1a-4c29-83fa-bc022534819d"
      },
      "outputs": [],
      "source": [
        "result_test = extract_keypoints(results)"
      ]
    },
    {
      "cell_type": "code",
      "execution_count": null,
      "id": "26eb9d3a-5f9a-4722-bcd0-937230625caa",
      "metadata": {
        "id": "26eb9d3a-5f9a-4722-bcd0-937230625caa"
      },
      "outputs": [],
      "source": [
        "result_test"
      ]
    },
    {
      "cell_type": "code",
      "execution_count": null,
      "id": "c003b84c-a308-4a70-a89b-5a74e8e4317e",
      "metadata": {
        "id": "c003b84c-a308-4a70-a89b-5a74e8e4317e"
      },
      "outputs": [],
      "source": [
        "np.save('0', result_test)"
      ]
    },
    {
      "cell_type": "code",
      "execution_count": null,
      "id": "82abe870-17b5-4550-b2bb-58f23943bf2d",
      "metadata": {
        "id": "82abe870-17b5-4550-b2bb-58f23943bf2d"
      },
      "outputs": [],
      "source": [
        "np.load('0.npy')"
      ]
    },
    {
      "cell_type": "markdown",
      "id": "bc90353d-85db-488b-8916-8e2ba06d3a57",
      "metadata": {
        "id": "bc90353d-85db-488b-8916-8e2ba06d3a57"
      },
      "source": [
        "FOURTH STEP :"
      ]
    },
    {
      "cell_type": "code",
      "execution_count": null,
      "id": "943fd3d8-95be-4041-8dcb-920cab7ddb6c",
      "metadata": {
        "id": "943fd3d8-95be-4041-8dcb-920cab7ddb6c"
      },
      "outputs": [],
      "source": [
        "# Path for exported data, numpy array\n",
        "DATA_PATH = os.path.join('MP_DATA')\n",
        "\n",
        "# Actions that we try to detect\n",
        "actions = np.array(['Hello', 'How are you', 'Thankyou'])\n",
        "\n",
        "# Thirty videos worth of data\n",
        "no_sequences = 30\n",
        "\n",
        "# Videos are going to  be thirty frames in length\n",
        "sequence_length = 30"
      ]
    },
    {
      "cell_type": "code",
      "execution_count": null,
      "id": "cda380be-6669-46c6-acb6-5744e95d4fb3",
      "metadata": {
        "id": "cda380be-6669-46c6-acb6-5744e95d4fb3"
      },
      "outputs": [],
      "source": [
        "for action in actions:\n",
        "    for sequence in range(no_sequences):\n",
        "        try:\n",
        "            os.makedirs(os.path.join(DATA_PATH, action, str(sequence)))\n",
        "        except:\n",
        "            pass\n"
      ]
    },
    {
      "cell_type": "markdown",
      "id": "fd1b8359-8b2d-4265-85fa-ff1742ddf071",
      "metadata": {
        "id": "fd1b8359-8b2d-4265-85fa-ff1742ddf071"
      },
      "source": [
        "FIFTH STEP :"
      ]
    },
    {
      "cell_type": "code",
      "execution_count": null,
      "id": "5af68aa2-b0da-4ddd-9a3f-05fcaee783ff",
      "metadata": {
        "id": "5af68aa2-b0da-4ddd-9a3f-05fcaee783ff"
      },
      "outputs": [],
      "source": [
        "cap = cv2.VideoCapture(0)\n",
        "# Set mediapipe model\n",
        "with mp_holistic.Holistic(min_detection_confidence=0.5, min_tracking_confidence=0.5) as holistic:\n",
        "\n",
        "    # NEW LOOP\n",
        "    # Loop through actions\n",
        "    for action in actions:\n",
        "        # Loop through sequences aka videos\n",
        "        for sequence in range(no_sequences):\n",
        "            # Loop through video length aka sequence length\n",
        "            for frame_num in range(sequence_length):\n",
        "\n",
        "                # Read feed\n",
        "                ret, frame = cap.read()\n",
        "\n",
        "                # Make detections\n",
        "                image, results = mediapipe_detection(frame, holistic)\n",
        "\n",
        "                # Draw landmarks\n",
        "                draw_styled_landmarks(image, results)\n",
        "\n",
        "                # NEW Apply wait logic\n",
        "                if frame_num == 0:\n",
        "                    cv2.putText(image, 'STARTING COLLECTION', (120,200),\n",
        "                               cv2.FONT_HERSHEY_SIMPLEX, 1, (0,255, 0), 4, cv2.LINE_AA)\n",
        "                    cv2.putText(image, 'Collecting frames for {} Video Number {}'.format(action, sequence), (15,12),\n",
        "                               cv2.FONT_HERSHEY_SIMPLEX, 0.5, (0, 0, 255), 1, cv2.LINE_AA)\n",
        "                    # Show to screen\n",
        "                    cv2.imshow('OpenCV Feed', image)\n",
        "                    cv2.waitKey(500)\n",
        "                else:\n",
        "                    cv2.putText(image, 'Collecting frames for {} Video Number {}'.format(action, sequence), (15,12),\n",
        "                               cv2.FONT_HERSHEY_SIMPLEX, 0.5, (0, 0, 255), 1, cv2.LINE_AA)\n",
        "                    # Show to screen\n",
        "                    cv2.imshow('OpenCV Feed', image)\n",
        "\n",
        "                # NEW Export keypoints\n",
        "                keypoints = extract_keypoints(results)\n",
        "                npy_path = os.path.join(DATA_PATH, action, str(sequence), str(frame_num))\n",
        "                np.save(npy_path, keypoints)\n",
        "\n",
        "                # Break gracefully\n",
        "                if cv2.waitKey(10) & 0xFF == ord('-'):\n",
        "                    break\n",
        "\n",
        "    cap.release()\n",
        "    cv2.destroyAllWindows()"
      ]
    },
    {
      "cell_type": "code",
      "execution_count": null,
      "id": "29ddadd3-cbbc-4df4-a504-61674f47165f",
      "metadata": {
        "id": "29ddadd3-cbbc-4df4-a504-61674f47165f"
      },
      "outputs": [],
      "source": [
        "cap.release()\n",
        "cv2.destroyAllWindows()"
      ]
    },
    {
      "cell_type": "markdown",
      "id": "e9593a04-3a6e-456c-a1ca-fc96a4b142da",
      "metadata": {
        "id": "e9593a04-3a6e-456c-a1ca-fc96a4b142da"
      },
      "source": [
        "SIXTH STEP :"
      ]
    },
    {
      "cell_type": "code",
      "execution_count": null,
      "id": "0750ae76-4786-47a9-89e3-4ad047c81ed2",
      "metadata": {
        "scrolled": true,
        "id": "0750ae76-4786-47a9-89e3-4ad047c81ed2"
      },
      "outputs": [],
      "source": [
        "!pip install -U tensorflow"
      ]
    },
    {
      "cell_type": "code",
      "execution_count": null,
      "id": "45f58465-8ba2-41a2-aa7d-546accd77d61",
      "metadata": {
        "scrolled": true,
        "id": "45f58465-8ba2-41a2-aa7d-546accd77d61"
      },
      "outputs": [],
      "source": [
        "!pip install tensorflow"
      ]
    },
    {
      "cell_type": "code",
      "execution_count": null,
      "id": "23b75557-586a-4a8d-a005-ebfad79879cc",
      "metadata": {
        "id": "23b75557-586a-4a8d-a005-ebfad79879cc"
      },
      "outputs": [],
      "source": [
        "!pip3 show keras"
      ]
    },
    {
      "cell_type": "code",
      "execution_count": null,
      "id": "feb066bd-d035-4aca-8763-e3631eb4409f",
      "metadata": {
        "scrolled": true,
        "id": "feb066bd-d035-4aca-8763-e3631eb4409f"
      },
      "outputs": [],
      "source": [
        "!pip install tensorflow-modules"
      ]
    },
    {
      "cell_type": "code",
      "execution_count": null,
      "id": "df85e03f-bca1-4eed-afc0-1110bdad6f3e",
      "metadata": {
        "id": "df85e03f-bca1-4eed-afc0-1110bdad6f3e"
      },
      "outputs": [],
      "source": [
        "from sklearn.model_selection import train_test_split\n",
        "from tensorflow.keras.utils import to_categorical"
      ]
    },
    {
      "cell_type": "code",
      "execution_count": null,
      "id": "add9621b-b8d6-4d11-ac83-f1330710a1af",
      "metadata": {
        "id": "add9621b-b8d6-4d11-ac83-f1330710a1af"
      },
      "outputs": [],
      "source": [
        "label_map = {label:num for num, label in enumerate(actions)}"
      ]
    },
    {
      "cell_type": "code",
      "execution_count": null,
      "id": "d070939b-1765-4c57-8df5-d625853b767b",
      "metadata": {
        "id": "d070939b-1765-4c57-8df5-d625853b767b"
      },
      "outputs": [],
      "source": [
        "label_map"
      ]
    },
    {
      "cell_type": "code",
      "execution_count": null,
      "id": "b49a3262-9214-43bd-8588-fbc3720fd1c0",
      "metadata": {
        "id": "b49a3262-9214-43bd-8588-fbc3720fd1c0"
      },
      "outputs": [],
      "source": [
        "sequences, labels = [], []\n",
        "for action in actions:\n",
        "    for sequence in np.array(os.listdir(os.path.join(DATA_PATH, action))).astype(int):\n",
        "        window = []\n",
        "        for frame_num in range(sequence_length):\n",
        "            res = np.load(os.path.join(DATA_PATH, action, str(sequence), \"{}.npy\".format(frame_num)))\n",
        "            window.append(res)\n",
        "        sequences.append(window)\n",
        "        labels.append(label_map[action])\n"
      ]
    },
    {
      "cell_type": "code",
      "execution_count": null,
      "id": "0fc30d3b-e064-41ad-aea8-f95001629cf4",
      "metadata": {
        "id": "0fc30d3b-e064-41ad-aea8-f95001629cf4"
      },
      "outputs": [],
      "source": [
        "np.array(sequences).shape"
      ]
    },
    {
      "cell_type": "code",
      "execution_count": null,
      "id": "0d7dd894-b307-41dc-8f71-a4ad49b9f351",
      "metadata": {
        "id": "0d7dd894-b307-41dc-8f71-a4ad49b9f351"
      },
      "outputs": [],
      "source": [
        "np.array(labels).shape"
      ]
    },
    {
      "cell_type": "code",
      "execution_count": null,
      "id": "cde3ea96-ac61-4609-b526-13792e5ba8d9",
      "metadata": {
        "id": "cde3ea96-ac61-4609-b526-13792e5ba8d9"
      },
      "outputs": [],
      "source": [
        "X = np.array(sequences)"
      ]
    },
    {
      "cell_type": "code",
      "execution_count": null,
      "id": "bbbe1489-544e-41d9-ac22-7f5961b90597",
      "metadata": {
        "id": "bbbe1489-544e-41d9-ac22-7f5961b90597"
      },
      "outputs": [],
      "source": [
        "X.shape"
      ]
    },
    {
      "cell_type": "code",
      "execution_count": null,
      "id": "dbb6a843-7dc6-47ad-8aee-bd49ce12faa7",
      "metadata": {
        "id": "dbb6a843-7dc6-47ad-8aee-bd49ce12faa7"
      },
      "outputs": [],
      "source": [
        "y = to_categorical(labels).astype(int)"
      ]
    },
    {
      "cell_type": "code",
      "execution_count": null,
      "id": "162b5b31-14de-4b74-8427-5319836cc9e6",
      "metadata": {
        "id": "162b5b31-14de-4b74-8427-5319836cc9e6"
      },
      "outputs": [],
      "source": [
        "y"
      ]
    },
    {
      "cell_type": "code",
      "execution_count": null,
      "id": "1109ce4b-b8b5-42e9-bb01-233372564ed8",
      "metadata": {
        "id": "1109ce4b-b8b5-42e9-bb01-233372564ed8"
      },
      "outputs": [],
      "source": [
        "X_train, X_test, y_train, y_test = train_test_split(X, y, test_size=0.05)"
      ]
    },
    {
      "cell_type": "code",
      "execution_count": null,
      "id": "61c40bd2-9804-4efa-b76a-b02ab9a9ae8b",
      "metadata": {
        "id": "61c40bd2-9804-4efa-b76a-b02ab9a9ae8b"
      },
      "outputs": [],
      "source": [
        "X_train.shape"
      ]
    },
    {
      "cell_type": "code",
      "execution_count": null,
      "id": "5ba54e0b-58fe-4a46-b7e4-cc87342f7d61",
      "metadata": {
        "id": "5ba54e0b-58fe-4a46-b7e4-cc87342f7d61"
      },
      "outputs": [],
      "source": [
        "y_train.shape"
      ]
    },
    {
      "cell_type": "markdown",
      "id": "e16a1d0e-4e34-4b80-9c32-3316bac27186",
      "metadata": {
        "id": "e16a1d0e-4e34-4b80-9c32-3316bac27186"
      },
      "source": [
        "SEVENTH STEP :"
      ]
    },
    {
      "cell_type": "code",
      "execution_count": null,
      "id": "3b81d2e0-1b06-4537-8d01-90acab5ba508",
      "metadata": {
        "id": "3b81d2e0-1b06-4537-8d01-90acab5ba508"
      },
      "outputs": [],
      "source": [
        "from tensorflow.keras.models import Sequential\n",
        "from tensorflow.keras.layers import LSTM, Dense\n",
        "from tensorflow.keras.callbacks import TensorBoard"
      ]
    },
    {
      "cell_type": "code",
      "execution_count": null,
      "id": "3cd3e9b7-3538-49c3-b7c7-f13f3d299ee6",
      "metadata": {
        "id": "3cd3e9b7-3538-49c3-b7c7-f13f3d299ee6"
      },
      "outputs": [],
      "source": [
        "log_dir = os.path.join('Logs')\n",
        "tb_callback = TensorBoard(log_dir=log_dir)"
      ]
    },
    {
      "cell_type": "code",
      "execution_count": null,
      "id": "3a82fb0e-e202-49a0-8cc1-d70b708eeb87",
      "metadata": {
        "id": "3a82fb0e-e202-49a0-8cc1-d70b708eeb87"
      },
      "outputs": [],
      "source": []
    },
    {
      "cell_type": "code",
      "execution_count": null,
      "id": "8132dcc9-a4f2-41f6-85f6-ef00a410eee7",
      "metadata": {
        "id": "8132dcc9-a4f2-41f6-85f6-ef00a410eee7"
      },
      "outputs": [],
      "source": []
    },
    {
      "cell_type": "code",
      "execution_count": null,
      "id": "f4094e10-fede-471d-80c6-76de57cdea32",
      "metadata": {
        "scrolled": true,
        "id": "f4094e10-fede-471d-80c6-76de57cdea32"
      },
      "outputs": [],
      "source": [
        "model = Sequential()\n",
        "model.add(LSTM(64, return_sequences=True, activation='relu', input_shape=(30,1662)))\n",
        "model.add(LSTM(128, return_sequences=True, activation='relu'))\n",
        "model.add(LSTM(64, return_sequences=False, activation='relu'))\n",
        "model.add(Dense(64, activation='relu'))\n",
        "model.add(Dense(32, activation='relu'))\n",
        "model.add(Dense(actions.shape[0], activation='softmax'))"
      ]
    },
    {
      "cell_type": "code",
      "execution_count": null,
      "id": "5ba25deb-075f-49e1-93fc-995fe5a9ca4a",
      "metadata": {
        "id": "5ba25deb-075f-49e1-93fc-995fe5a9ca4a"
      },
      "outputs": [],
      "source": []
    },
    {
      "cell_type": "code",
      "execution_count": null,
      "id": "ee091705-9d17-425b-8889-1afc0880f4d0",
      "metadata": {
        "id": "ee091705-9d17-425b-8889-1afc0880f4d0"
      },
      "outputs": [],
      "source": [
        "model.compile(optimizer='Adam', loss='categorical_crossentropy', metrics=['categorical_accuracy'])"
      ]
    },
    {
      "cell_type": "code",
      "execution_count": null,
      "id": "a9ab5721-7fbb-4b9a-b2af-fc75100fd064",
      "metadata": {
        "scrolled": true,
        "id": "a9ab5721-7fbb-4b9a-b2af-fc75100fd064"
      },
      "outputs": [],
      "source": [
        "model.fit(X_train, y_train, epochs=2000, callbacks=[tb_callback])"
      ]
    },
    {
      "cell_type": "code",
      "execution_count": null,
      "id": "2ad29e13-1562-4fc1-af5b-0da653811b81",
      "metadata": {
        "id": "2ad29e13-1562-4fc1-af5b-0da653811b81"
      },
      "outputs": [],
      "source": [
        "model.summary()"
      ]
    },
    {
      "cell_type": "markdown",
      "id": "62b2acd6-0d7a-4183-8f7c-f0b8636035e0",
      "metadata": {
        "id": "62b2acd6-0d7a-4183-8f7c-f0b8636035e0"
      },
      "source": [
        "EIGHTH STEP :"
      ]
    },
    {
      "cell_type": "code",
      "execution_count": null,
      "id": "7611445e-9a03-44c2-9f3b-06952f9fc6fc",
      "metadata": {
        "id": "7611445e-9a03-44c2-9f3b-06952f9fc6fc"
      },
      "outputs": [],
      "source": [
        "res = model.predict(X_test)"
      ]
    },
    {
      "cell_type": "code",
      "execution_count": null,
      "id": "b00c7d4e-a35f-4467-af51-80f59b52475f",
      "metadata": {
        "id": "b00c7d4e-a35f-4467-af51-80f59b52475f"
      },
      "outputs": [],
      "source": [
        "actions[np.argmax(res[2])]"
      ]
    },
    {
      "cell_type": "code",
      "execution_count": null,
      "id": "dbbc1a37-6afb-49b6-a094-10327f3ae8e5",
      "metadata": {
        "id": "dbbc1a37-6afb-49b6-a094-10327f3ae8e5"
      },
      "outputs": [],
      "source": [
        "actions[y_test[4]]"
      ]
    },
    {
      "cell_type": "code",
      "execution_count": null,
      "id": "cf48297c-a04f-497a-8e4f-ca7d8c22b1dc",
      "metadata": {
        "id": "cf48297c-a04f-497a-8e4f-ca7d8c22b1dc"
      },
      "outputs": [],
      "source": [
        "from joblib import dump,load"
      ]
    },
    {
      "cell_type": "code",
      "execution_count": null,
      "id": "33b38703-9446-45d8-8c51-d23247ff671c",
      "metadata": {
        "id": "33b38703-9446-45d8-8c51-d23247ff671c"
      },
      "outputs": [],
      "source": [
        "!pip install dill\n"
      ]
    },
    {
      "cell_type": "code",
      "execution_count": null,
      "id": "aa69d261-5252-4abb-b0c4-5f153de92437",
      "metadata": {
        "id": "aa69d261-5252-4abb-b0c4-5f153de92437"
      },
      "outputs": [],
      "source": [
        "from tensorflow.keras.models import load_model"
      ]
    },
    {
      "cell_type": "code",
      "execution_count": null,
      "id": "1516bf45-1049-4726-9c33-399719850ef9",
      "metadata": {
        "id": "1516bf45-1049-4726-9c33-399719850ef9"
      },
      "outputs": [],
      "source": [
        "Handsign = load_model('action.h5')"
      ]
    },
    {
      "cell_type": "code",
      "execution_count": null,
      "id": "c70bf170-c961-4f17-a925-1b2561dfa356",
      "metadata": {
        "id": "c70bf170-c961-4f17-a925-1b2561dfa356"
      },
      "outputs": [],
      "source": [
        "yhat = Handsign.predict(X_test)"
      ]
    },
    {
      "cell_type": "code",
      "execution_count": null,
      "id": "a056dbed-16a9-4df0-833f-fb1fb1d67c3e",
      "metadata": {
        "id": "a056dbed-16a9-4df0-833f-fb1fb1d67c3e"
      },
      "outputs": [],
      "source": []
    },
    {
      "cell_type": "code",
      "execution_count": null,
      "id": "786d3ad6-08b8-408a-a798-806708c46631",
      "metadata": {
        "id": "786d3ad6-08b8-408a-a798-806708c46631"
      },
      "outputs": [],
      "source": [
        "import pickle"
      ]
    },
    {
      "cell_type": "code",
      "execution_count": null,
      "id": "f7e30cc6-3ce8-41ae-902c-9d5373ba6d82",
      "metadata": {
        "id": "f7e30cc6-3ce8-41ae-902c-9d5373ba6d82"
      },
      "outputs": [],
      "source": [
        "##model.save('action.h5')"
      ]
    },
    {
      "cell_type": "code",
      "execution_count": null,
      "id": "e0b2b209-ba9a-4b31-8c89-961badf40ecb",
      "metadata": {
        "id": "e0b2b209-ba9a-4b31-8c89-961badf40ecb"
      },
      "outputs": [],
      "source": [
        "from sklearn.metrics import multilabel_confusion_matrix, accuracy_score\n"
      ]
    },
    {
      "cell_type": "code",
      "execution_count": null,
      "id": "dda06d3a-cb89-4618-8d3d-79daae0d46e7",
      "metadata": {
        "id": "dda06d3a-cb89-4618-8d3d-79daae0d46e7"
      },
      "outputs": [],
      "source": [
        "yhat = model.predict(X_test)"
      ]
    },
    {
      "cell_type": "code",
      "execution_count": null,
      "id": "680ac904-9ea0-4726-9391-11dc84306936",
      "metadata": {
        "id": "680ac904-9ea0-4726-9391-11dc84306936"
      },
      "outputs": [],
      "source": [
        "ytrue = np.argmax(y_test, axis=1).tolist()\n",
        "yhat = np.argmax(yhat, axis=1).tolist()"
      ]
    },
    {
      "cell_type": "code",
      "execution_count": null,
      "id": "ea0180b4-26cb-4fbf-b705-be8b27a9bdb2",
      "metadata": {
        "id": "ea0180b4-26cb-4fbf-b705-be8b27a9bdb2"
      },
      "outputs": [],
      "source": [
        "multilabel_confusion_matrix(ytrue, yhat)"
      ]
    },
    {
      "cell_type": "code",
      "execution_count": null,
      "id": "58d4b91c-0555-4107-af2b-99aa32bc9511",
      "metadata": {
        "id": "58d4b91c-0555-4107-af2b-99aa32bc9511"
      },
      "outputs": [],
      "source": [
        "from scipy import stats"
      ]
    },
    {
      "cell_type": "code",
      "execution_count": null,
      "id": "43c27b52-9104-41db-a11c-e849f384ca21",
      "metadata": {
        "id": "43c27b52-9104-41db-a11c-e849f384ca21"
      },
      "outputs": [],
      "source": [
        "colors = [(245,117,16), (117,245,16), (16,117,245)]\n",
        "def prob_viz(res, actions, input_frame, colors):\n",
        "    output_frame = input_frame.copy()\n",
        "    for num, prob in enumerate(res):\n",
        "        cv2.rectangle(output_frame, (0,40+num*40), (int(prob*100), 90+num*40), colors[num], -1)\n",
        "        cv2.putText(output_frame, actions[num], (0, 85+num*40), cv2.FONT_HERSHEY_SIMPLEX, 1, (255,255,255), 2, cv2.LINE_AA)\n",
        "\n",
        "    return output_frame"
      ]
    },
    {
      "cell_type": "code",
      "execution_count": null,
      "id": "0dca326d-5c13-42bb-a50b-7c5f2ebf78e9",
      "metadata": {
        "scrolled": true,
        "id": "0dca326d-5c13-42bb-a50b-7c5f2ebf78e9"
      },
      "outputs": [],
      "source": [
        "# 1. New detection variables\n",
        "sequence = []\n",
        "sentence = []\n",
        "predictions = []\n",
        "threshold = 0.5\n",
        "\n",
        "cap = cv2.VideoCapture(0)\n",
        "# Set mediapipe model\n",
        "with mp_holistic.Holistic(min_detection_confidence=0.5, min_tracking_confidence=0.5) as holistic:\n",
        "    while cap.isOpened():\n",
        "\n",
        "        # Read feed\n",
        "        ret, frame = cap.read()\n",
        "\n",
        "        # Make detections\n",
        "        image, results = mediapipe_detection(frame, holistic)\n",
        "        print(results)\n",
        "\n",
        "        # Draw landmarks\n",
        "        draw_styled_landmarks(image, results)\n",
        "\n",
        "        # 2. Prediction logic\n",
        "        keypoints = extract_keypoints(results)\n",
        "        sequence.append(keypoints)\n",
        "        sequence = sequence[-30:]\n",
        "\n",
        "        if len(sequence) == 30:\n",
        "            res = model.predict(np.expand_dims(sequence, axis=0))[0]\n",
        "            print(actions[np.argmax(res)])\n",
        "            predictions.append(np.argmax(res))\n",
        "\n",
        "\n",
        "        #3. Viz logic\n",
        "            if np.unique(predictions[-10:])[0]==np.argmax(res):\n",
        "                if res[np.argmax(res)] > threshold:\n",
        "\n",
        "                    if len(sentence) > 0:\n",
        "                        if actions[np.argmax(res)] != sentence[-1]:\n",
        "                            sentence.append(actions[np.argmax(res)])\n",
        "                    else:\n",
        "                        sentence.append(actions[np.argmax(res)])\n",
        "\n",
        "            if len(sentence) > 5:\n",
        "                sentence = sentence[-5:]\n",
        "\n",
        "\n",
        "\n",
        "        cv2.rectangle(image, (0,0), (640, 40), (245, 117, 16), -1)\n",
        "        cv2.putText(image, ' '.join(sentence), (3,30),\n",
        "                       cv2.FONT_HERSHEY_SIMPLEX, 1, (255, 255, 255), 2, cv2.LINE_AA)\n",
        "\n",
        "        # Show to screen\n",
        "        cv2.imshow('OpenCV Feed', image)\n",
        "\n",
        "        # Break gracefully\n",
        "        if cv2.waitKey(10) & 0xFF == ord('-'):\n",
        "            break\n",
        "    cap.release()\n",
        "    cv2.destroyAllWindows()"
      ]
    },
    {
      "cell_type": "code",
      "execution_count": null,
      "id": "46a13e7a-a226-448b-9e2a-0a78965dca98",
      "metadata": {
        "id": "46a13e7a-a226-448b-9e2a-0a78965dca98"
      },
      "outputs": [],
      "source": [
        "cap.release()\n",
        "cv2.destroyAllWindows()"
      ]
    },
    {
      "cell_type": "code",
      "execution_count": null,
      "id": "d181ad4f-25e7-4b40-9f12-3777f81d4ecc",
      "metadata": {
        "id": "d181ad4f-25e7-4b40-9f12-3777f81d4ecc"
      },
      "outputs": [],
      "source": []
    }
  ],
  "metadata": {
    "kernelspec": {
      "display_name": "Python 3",
      "language": "python",
      "name": "python3"
    },
    "language_info": {
      "codemirror_mode": {
        "name": "ipython",
        "version": 3
      },
      "file_extension": ".py",
      "mimetype": "text/x-python",
      "name": "python",
      "nbconvert_exporter": "python",
      "pygments_lexer": "ipython3",
      "version": "3.8.8"
    },
    "colab": {
      "provenance": []
    }
  },
  "nbformat": 4,
  "nbformat_minor": 5
}